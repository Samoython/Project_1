{
 "cells": [
  {
   "cell_type": "markdown",
   "id": "67d7ccc7-560f-43c5-8546-f68e52af75aa",
   "metadata": {},
   "source": [
    "# Data Science Tools and Ecosystem\n"
   ]
  },
  {
   "cell_type": "code",
   "execution_count": 3,
   "id": "29159348-d987-448a-9a59-64849f1b267a",
   "metadata": {
    "tags": []
   },
   "outputs": [
    {
     "name": "stdout",
     "output_type": "stream",
     "text": [
      "In this notebook, Data Science Tools and Ecosystem are summarized.\n"
     ]
    }
   ],
   "source": [
    "In this notebook, Data Science Tools and Ecosystem are summarized"
   ]
  },
  {
   "cell_type": "markdown",
   "id": "7900fd84-12d5-4817-9958-26a12524ae94",
   "metadata": {},
   "source": [
    "Some of the popular languages that Data Scientists use are:\n",
    "1-Python\n",
    "2-R language\n",
    "3-SQL"
   ]
  },
  {
   "cell_type": "markdown",
   "id": "e62129fa-af7a-4564-acfa-951056706e4a",
   "metadata": {},
   "source": [
    "In this notebook, Data Science Tools and Ecosystem are summarized."
   ]
  },
  {
   "cell_type": "markdown",
   "id": "7e23a880-b22c-4867-a9e8-fc0cabfd83ec",
   "metadata": {},
   "source": [
    "Some of the popular languages that Data Scientists use are:\n",
    "1-Python\n",
    "2-R Language\n",
    "3-SQL"
   ]
  },
  {
   "cell_type": "markdown",
   "id": "547e5ca6-5439-4e8d-abb2-1433edcb7778",
   "metadata": {},
   "source": [
    "Some of the commonly used librairies used by data Scientists include:\n",
    "1-Pandas\n",
    "2-NumPy\n",
    "3-Matplotlib\n",
    "4-Keras\n",
    "5-TensorFlow\n",
    "6-Vegas\n",
    "7-Big DL"
   ]
  },
  {
   "cell_type": "markdown",
   "id": "e3cc18af-50c7-4204-a78c-e83e88aea585",
   "metadata": {},
   "source": [
    "|Data Science Tools|\n",
    "|----|\n",
    "|SAS|\n",
    "|Jupyter|\n",
    "|Matplotlib|"
   ]
  },
  {
   "cell_type": "code",
   "execution_count": null,
   "id": "e325f41e-ada8-46f8-acd2-ad2d9ac17c81",
   "metadata": {},
   "outputs": [],
   "source": []
  },
  {
   "cell_type": "markdown",
   "id": "be71174f-f2a3-45de-be14-7b9788f855c5",
   "metadata": {},
   "source": [
    "### Below are a few examples of evaluating arithmetic expressions in Python ."
   ]
  },
  {
   "cell_type": "code",
   "execution_count": 11,
   "id": "12a8e57f-99b9-4d12-8b53-0bb7a6491e81",
   "metadata": {
    "tags": []
   },
   "outputs": [
    {
     "name": "stdout",
     "output_type": "stream",
     "text": [
      "17\n"
     ]
    }
   ],
   "source": [
    "a=3\n",
    "b=4 \n",
    "c=5 \n",
    "d=(a*b)+c\n",
    "\n",
    "print(d)"
   ]
  },
  {
   "cell_type": "markdown",
   "id": "7ba30794-c3dd-418a-8b26-b4643b6a3591",
   "metadata": {},
   "source": [
    "In this notebook, Data Science Tools and Ecosystem are summarized."
   ]
  },
  {
   "cell_type": "markdown",
   "id": "cf8947f3-4e49-4655-8997-0d9014d5b452",
   "metadata": {},
   "source": [
    "# Objectives\n",
    "In this course we able to know some popular languages for Data Science like :\n",
    "*Python\n",
    "*R Language \n",
    "*SQL"
   ]
  },
  {
   "cell_type": "markdown",
   "id": "c49895b4-a54c-40f8-8703-8795010e06e1",
   "metadata": {},
   "source": [
    "## Author : Lakshmi Holla & Niveditha Pandith\n",
    "   Issam Shaibat"
   ]
  },
  {
   "cell_type": "code",
   "execution_count": null,
   "id": "b108f5ac-c2e3-48a3-8573-2f41379c2c4b",
   "metadata": {},
   "outputs": [],
   "source": []
  }
 ],
 "metadata": {
  "kernelspec": {
   "display_name": "Python",
   "language": "python",
   "name": "conda-env-python-py"
  },
  "language_info": {
   "codemirror_mode": {
    "name": "ipython",
    "version": 3
   },
   "file_extension": ".py",
   "mimetype": "text/x-python",
   "name": "python",
   "nbconvert_exporter": "python",
   "pygments_lexer": "ipython3",
   "version": "3.7.12"
  }
 },
 "nbformat": 4,
 "nbformat_minor": 5
}
